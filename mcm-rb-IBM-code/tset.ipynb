{
 "cells": [
  {
   "cell_type": "code",
   "execution_count": 6,
   "metadata": {},
   "outputs": [
    {
     "ename": "ModuleNotFoundError",
     "evalue": "No module named 'mcm_rb_circuits'",
     "output_type": "error",
     "traceback": [
      "\u001b[1;31m---------------------------------------------------------------------------\u001b[0m",
      "\u001b[1;31mModuleNotFoundError\u001b[0m                       Traceback (most recent call last)",
      "Cell \u001b[1;32mIn[6], line 21\u001b[0m\n\u001b[0;32m     17\u001b[0m \u001b[38;5;28;01mfrom\u001b[39;00m \u001b[38;5;21;01mqiskit\u001b[39;00m\u001b[38;5;21;01m.\u001b[39;00m\u001b[38;5;21;01mcircuit\u001b[39;00m\u001b[38;5;21;01m.\u001b[39;00m\u001b[38;5;21;01mexceptions\u001b[39;00m \u001b[38;5;28;01mimport\u001b[39;00m CircuitError\n\u001b[0;32m     18\u001b[0m \u001b[38;5;66;03m#from qiskit.tools.monitor import job_monitor\u001b[39;00m\n\u001b[0;32m     19\u001b[0m \u001b[38;5;66;03m#from qiskit.providers.ibmq.managed import IBMQJobManager\u001b[39;00m\n\u001b[1;32m---> 21\u001b[0m \u001b[38;5;28;01mimport\u001b[39;00m \u001b[38;5;21;01mmcm_rb_circuits\u001b[39;00m \u001b[38;5;28;01mas\u001b[39;00m \u001b[38;5;21;01mmcmrb\u001b[39;00m\n",
      "\u001b[1;31mModuleNotFoundError\u001b[0m: No module named 'mcm_rb_circuits'"
     ]
    }
   ],
   "source": [
    "import warnings\n",
    "warnings.filterwarnings('ignore')\n",
    "#Import general libraries (needed for functions)\n",
    "import numpy as np\n",
    "import scipy as sp\n",
    "import matplotlib.pyplot as plt\n",
    "from scipy.optimize import curve_fit\n",
    "import pickle as pk\n",
    "\n",
    "#Import Qiskit classes \n",
    "import qiskit\n",
    "#from qiskit import IBMQ\n",
    "from qiskit_aer import Aer\n",
    "\n",
    "from qiskit.compiler import transpile, assemble\n",
    "from qiskit.result import marginal_counts as margct\n",
    "from qiskit.circuit.exceptions import CircuitError\n",
    "#from qiskit.tools.monitor import job_monitor\n",
    "#from qiskit.providers.ibmq.managed import IBMQJobManager\n",
    "\n",
    "import mcm_rb_circuits as mcmrb"
   ]
  },
  {
   "cell_type": "code",
   "execution_count": null,
   "metadata": {},
   "outputs": [],
   "source": [
    "def load_object(filename):\n",
    "    try:\n",
    "        with open(filename, \"rb\") as f:\n",
    "            return pk.load(f)\n",
    "    except Exception as ex:\n",
    "        print(\"Error during unpickling object (Possibly unsupported):\", ex)"
   ]
  },
  {
   "cell_type": "code",
   "execution_count": null,
   "metadata": {},
   "outputs": [],
   "source": [
    "config1_data = load_object(\"exp_config1.pickle\")\n",
    "config2_data = load_object(\"exp_config2.pickle\")"
   ]
  },
  {
   "cell_type": "code",
   "execution_count": null,
   "metadata": {},
   "outputs": [],
   "source": [
    "xvals042622_1 = config1_data[0]\n",
    "rb_res042622_1 = config1_data[1]\n",
    "fits042622_1 = config1_data[2]\n",
    "lfits042622_1 = config1_data[3]\n",
    "\n",
    "xvals042622_2 = config2_data[0]\n",
    "rb_res042622_2 = config2_data[1]\n",
    "fits042622_2 = config2_data[2]\n",
    "lfits042622_2 = config2_data[3]"
   ]
  }
 ],
 "metadata": {
  "kernelspec": {
   "display_name": "base",
   "language": "python",
   "name": "python3"
  },
  "language_info": {
   "codemirror_mode": {
    "name": "ipython",
    "version": 3
   },
   "file_extension": ".py",
   "mimetype": "text/x-python",
   "name": "python",
   "nbconvert_exporter": "python",
   "pygments_lexer": "ipython3",
   "version": "3.12.7"
  }
 },
 "nbformat": 4,
 "nbformat_minor": 2
}
