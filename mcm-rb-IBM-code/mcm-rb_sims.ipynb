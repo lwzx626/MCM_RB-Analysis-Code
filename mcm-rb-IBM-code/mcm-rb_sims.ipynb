{
 "cells": [
  {
   "cell_type": "code",
   "execution_count": null,
   "id": "346c93b0",
   "metadata": {},
   "outputs": [],
   "source": [
    "import warnings\n",
    "warnings.filterwarnings('ignore')\n",
    "#Import general libraries (needed for functions)\n",
    "import numpy as np\n",
    "import scipy as sp\n",
    "import matplotlib.pyplot as plt\n",
    "from scipy.optimize import curve_fit\n",
    "import pickle as pk\n",
    "\n",
    "#Import Qiskit classes classes\n",
    "import qiskit\n",
    "from qiskit import IBMQ\n",
    "from qiskit import Aer\n",
    "\n",
    "from qiskit.compiler import transpile, assemble\n",
    "from qiskit.result import marginal_counts as margct\n",
    "from qiskit.circuit.exceptions import CircuitError\n",
    "from qiskit.tools.monitor import job_monitor\n",
    "import qiskit.quantum_info as qi\n",
    "\n",
    "import mcm_rb_circuits_for_simulation as mcmrb_sims\n",
    "\n",
    "#aer noise stuff\n",
    "import qiskit.providers.aer.noise as noise"
   ]
  },
  {
   "cell_type": "code",
   "execution_count": null,
   "id": "b38c6523",
   "metadata": {},
   "outputs": [],
   "source": [
    "def save_object(obj,name):\n",
    "    try:\n",
    "        with open(name, \"wb\") as f:\n",
    "            pk.dump(obj, f, protocol=pk.HIGHEST_PROTOCOL)\n",
    "    except Exception as ex:\n",
    "        print(\"Error during pickling object (Possibly unsupported):\", ex)"
   ]
  },
  {
   "cell_type": "code",
   "execution_count": null,
   "id": "f34d9f77",
   "metadata": {},
   "outputs": [],
   "source": [
    "simulator = Aer.get_backend('aer_simulator_density_matrix')"
   ]
  },
  {
   "cell_type": "markdown",
   "id": "b824193c",
   "metadata": {},
   "source": [
    "# Error Sweeps"
   ]
  },
  {
   "cell_type": "markdown",
   "id": "8d07e387",
   "metadata": {},
   "source": [
    "### Error models"
   ]
  },
  {
   "cell_type": "code",
   "execution_count": null,
   "id": "9996b8fe",
   "metadata": {},
   "outputs": [],
   "source": [
    "# Control qubit errors\n",
    "\n",
    "# Error probabilities for control qubits\n",
    "prob_c1 = 0.001  # 1-qubit gate\n",
    "prob_c2 = 0.01   # 2-qubit gate\n",
    "\n",
    "# Depolarizing control errors\n",
    "error_c1 = noise.depolarizing_error(prob_c1, 1)\n",
    "error_c2 = noise.depolarizing_error(prob_c2, 2)\n",
    "\n",
    "#T1 and T2 (all same unit (us))\n",
    "t1 = 345\n",
    "t2 = 280\n",
    "meas_time = 0.71\n",
    "error_t1t2 = noise.thermal_relaxation_error(t1, t2, meas_time).tensor(noise.depolarizing_error(0.0, 1))"
   ]
  },
  {
   "cell_type": "code",
   "execution_count": null,
   "id": "9ca9c7a7",
   "metadata": {},
   "outputs": [],
   "source": [
    "T1T2E = noise.thermal_relaxation_error(t1, t2, meas_time).to_quantumchannel()"
   ]
  },
  {
   "cell_type": "code",
   "execution_count": null,
   "id": "2e120f18",
   "metadata": {},
   "outputs": [],
   "source": [
    "#Measurement induced Stark shift\n",
    "def U_stark(phi):\n",
    "    return sp.linalg.expm(-1j*phi*np.array([[1,0],[0,-1]]))\n",
    "    \n",
    "#Probabilistic cross-measurement\n",
    "def cm_K(cm_prob):\n",
    "    return [np.sqrt(1-cm_prob)*np.array([[1.0,0.0],[0.0,1.0]]),np.sqrt(cm_prob)*np.array([[1.0,0.0],[0.0,0.0]]),np.sqrt(cm_prob)*np.array([[0.0,0.0],[0.0,1.0]])]\n"
   ]
  },
  {
   "cell_type": "code",
   "execution_count": null,
   "id": "a10dc22f",
   "metadata": {},
   "outputs": [],
   "source": [
    "# Combined errors\n",
    "\n",
    "# T1 T2 + depolarizing\n",
    "error_t1t2_dep = noise.thermal_relaxation_error(t1, t2, meas_time).tensor(noise.depolarizing_error(prob_a1, 1))\n",
    "\n",
    "# Collision\n",
    "Imat = np.array([[1.,0.],[0.,1.]])\n",
    "Zmat = np.array([[1.,0.],[0.,-1.]])\n",
    "def U_col(delta,J):\n",
    "    Ham = J*np.array([[0,0,0,0],[0,0,1,0],[0,1,0,0],[0,0,0,0]]) + (delta)*np.kron(Imat,Zmat)/2\n",
    "    return sp.linalg.expm(-1j*Ham*meas_time)\n",
    "\n",
    "# ZZ-coupling\n",
    "Emat = np.array([[0.,0.],[0.,1.]])\n",
    "ZZ_Ham = np.kron(Zmat,Emat)\n",
    "\n",
    "def U_ZZ(ZZ_rate):\n",
    "    return sp.linalg.expm(-1j*ZZ_rate*meas_time*ZZ_Ham)"
   ]
  },
  {
   "cell_type": "markdown",
   "id": "ac3c98c2",
   "metadata": {},
   "source": [
    "### Construct circuits"
   ]
  },
  {
   "cell_type": "code",
   "execution_count": null,
   "id": "a66e22ce",
   "metadata": {},
   "outputs": [],
   "source": [
    "seeds = 60\n",
    "xval = np.insert(np.ceil(np.geomspace(1,150,14)).astype(int),0,0)\n",
    "sqrb_list = [0]\n",
    "ancilla_q_list = [1]\n",
    "\n",
    "mcm_rb_circs_sim, noise_model_sim = mcmrb_sims.mcm_rb_circs(xval, \n",
    "                         seeds=seeds, \n",
    "                         rb_list=sqrb_list, \n",
    "                         ancilla_list=ancilla_q_list, \n",
    "                         include_cnot=False, \n",
    "                                   make_mcm_only_circuits=True, \n",
    "                                   make_delay_circuits=True)"
   ]
  },
  {
   "cell_type": "code",
   "execution_count": null,
   "id": "a2e2381a",
   "metadata": {},
   "outputs": [],
   "source": [
    "mcm_rb_tp = transpile(mcm_rb_circs_sim, \n",
    "                basis_gates=['id','rz','sx','x','cx','unitary','save_probabilities'], \n",
    "                optimization_level=1)"
   ]
  },
  {
   "cell_type": "markdown",
   "id": "90a56c26",
   "metadata": {},
   "source": [
    "## Simulate"
   ]
  },
  {
   "cell_type": "markdown",
   "id": "12323eba",
   "metadata": {},
   "source": [
    "### non-QND Measurement Error"
   ]
  },
  {
   "cell_type": "code",
   "execution_count": null,
   "id": "ae5f3cc4",
   "metadata": {},
   "outputs": [],
   "source": [
    "# non-QND Error\n",
    "# Control = Pre-m T1,T2\n",
    "# Ancilla = Post-m Depolarizing\n",
    "\n",
    "dep_probs = np.arange(0.02,0.21,0.02)\n",
    "\n",
    "qnd_sims = []\n",
    "for x in dep_probs:    \n",
    "    noise_model = noise.NoiseModel()\n",
    "    noise_model = noise_model.from_dict(noise_model_sim.to_dict())\n",
    "    \n",
    "    noise_model.add_all_qubit_quantum_error(error_c1, ['sx', 'x', 'id'])\n",
    "    noise_model.add_all_qubit_quantum_error(error_c2, ['cx'])\n",
    "    \n",
    "    noise_model.add_quantum_error(error_t1t2, ['pre_meas_id'], [1,0])\n",
    "    noise_model.add_quantum_error(error_t1t2, ['pre_delay_id'], [1,0])\n",
    "    \n",
    "    error_a1 = noise.depolarizing_error(0.0, 1).tensor(noise.depolarizing_error(x, 1))\n",
    "    noise_model.add_quantum_error(error_a1, ['post_meas_id'], [1,0])\n",
    "    \n",
    "    qnd_sims.append(simulator.run(mcm_rb_tp,noise_model=noise_model))"
   ]
  },
  {
   "cell_type": "code",
   "execution_count": null,
   "id": "5fd63395",
   "metadata": {},
   "outputs": [],
   "source": [
    "xvals_qnd = []\n",
    "rb_res_qnd = []\n",
    "fits_qnd = []\n",
    "lfits_qnd = []\n",
    "\n",
    "for i in range(len(qnd_sims)):\n",
    "    xvals_temp, rb_res_temp, fits_temp, lfits_temp = mcmrb_sims.fit_mcm_RB_sims(qnd_sims[i], sqrb_list, ancilla_q_list)\n",
    "    xvals_qnd.append(xvals_temp)\n",
    "    rb_res_qnd.append(rb_res_temp)\n",
    "    fits_qnd.append(fits_temp)\n",
    "    lfits_qnd.append(lfits_temp)"
   ]
  },
  {
   "cell_type": "code",
   "execution_count": null,
   "id": "edd88a3b",
   "metadata": {},
   "outputs": [],
   "source": [
    "save_object([xvals_qnd,rb_res_qnd,fits_qnd,lfits_qnd],\"qnd_sims1.pickle\")"
   ]
  },
  {
   "cell_type": "markdown",
   "id": "d9ec1e04",
   "metadata": {},
   "source": [
    "### Stark Shift"
   ]
  },
  {
   "cell_type": "code",
   "execution_count": null,
   "id": "e3a6fe67",
   "metadata": {},
   "outputs": [],
   "source": [
    "# Control error: Stark\n",
    "# Control = Pre-m Stark Z Post-m T1,T2\n",
    "# Ancilla = Ideal\n",
    "\n",
    "phis = 2*np.pi*20/1000*0.71*np.arange(0.05,1.05,0.05)\n",
    "\n",
    "stark_sims = []\n",
    "for x in phis:\n",
    "    noise_model = noise.NoiseModel()\n",
    "    noise_model = noise_model.from_dict(noise_model_sim.to_dict())\n",
    "    \n",
    "    noise_model.add_all_qubit_quantum_error(error_c1, ['sx', 'x', 'id'])\n",
    "    noise_model.add_all_qubit_quantum_error(error_c2, ['cx'])\n",
    "    \n",
    "    noise_model.add_quantum_error(error_t1t2, ['post_meas_id'], [1,0])\n",
    "#     noise_model.add_quantum_error(error_t1t2, ['pre_meas_id'], [1,0])\n",
    "    noise_model.add_quantum_error(error_t1t2, ['post_delay_id'], [1,0])\n",
    "    \n",
    "    error_stark = noise.coherent_unitary_error(U_stark(x)).tensor(noise.depolarizing_error(0.0, 1))\n",
    "    noise_model.add_quantum_error(error_stark, ['pre_meas_id'], [1,0])\n",
    "#     noise_model.add_quantum_error(error_stark, ['post_meas_id'], [1,0])\n",
    "    \n",
    "    stark_sims.append(simulator.run(mcm_rb_tp,shots=shots,noise_model=noise_model))"
   ]
  },
  {
   "cell_type": "code",
   "execution_count": null,
   "id": "f438ccb3",
   "metadata": {},
   "outputs": [],
   "source": [
    "xvals_st = []\n",
    "rb_res_st = []\n",
    "fits_st = []\n",
    "lfits_st = []\n",
    "\n",
    "for i in range(len(stark_sims)):\n",
    "    xvals_temp, rb_res_temp, fits_temp, lfits_temp = mcmrb_sims.fit_mcm_RB_sims(stark_sims[i], sqrb_list, ancilla_q_list)\n",
    "    xvals_st.append(xvals_temp)\n",
    "    rb_res_st.append(rb_res_temp)\n",
    "    fits_st.append(fits_temp)\n",
    "    lfits_st.append(lfits_temp)"
   ]
  },
  {
   "cell_type": "code",
   "execution_count": null,
   "id": "5b9e1e9e",
   "metadata": {},
   "outputs": [],
   "source": [
    "save_object([xvals_st,rb_res_st,fits_st,lfits_st],\"st_sims1.pickle\")"
   ]
  },
  {
   "cell_type": "markdown",
   "id": "e4d4b21e",
   "metadata": {},
   "source": [
    "### Cross-Measurement"
   ]
  },
  {
   "cell_type": "code",
   "execution_count": null,
   "id": "f9eba5e1",
   "metadata": {},
   "outputs": [],
   "source": [
    "# Control error: cross-meas\n",
    "# Control = Pre-m Prob cross-meas Z Post-m T1,T2\n",
    "# Ancilla = Ideal\n",
    "\n",
    "cm_probs = np.arange(0.01,0.21,0.01)\n",
    "\n",
    "cm_sims = []\n",
    "for x in cm_probs:\n",
    "    noise_model = noise.NoiseModel()\n",
    "    noise_model = noise_model.from_dict(noise_model_sim.to_dict())\n",
    "    \n",
    "    noise_model.add_all_qubit_quantum_error(error_c1, ['sx', 'x', 'id'])\n",
    "    noise_model.add_all_qubit_quantum_error(error_c2, ['cx'])\n",
    "    \n",
    "    noise_model.add_quantum_error(error_t1t2, ['post_meas_id'], [1,0])\n",
    "    noise_model.add_quantum_error(error_t1t2, ['post_delay_id'], [1,0])\n",
    "    \n",
    "    error_cm = noise.kraus_error(cm_K(x)).tensor(noise.depolarizing_error(0.0, 1))\n",
    "    noise_model.add_quantum_error(error_cm, ['pre_meas_id'], [1,0])\n",
    "    \n",
    "    cm_sims.append(simulator.run(mcm_rb_tp,shots=shots,noise_model=noise_model))"
   ]
  },
  {
   "cell_type": "code",
   "execution_count": null,
   "id": "c780a14a",
   "metadata": {},
   "outputs": [],
   "source": [
    "xvals_cm = []\n",
    "rb_res_cm = []\n",
    "fits_cm = []\n",
    "lfits_cm = []\n",
    "\n",
    "for i in range(len(cm_sims)):\n",
    "    xvals_temp, rb_res_temp, fits_temp, lfits_temp = mcmrb_sims.fit_mcm_RB_sims(cm_sims[i], sqrb_list, ancilla_q_list)\n",
    "    xvals_cm.append(xvals_temp)\n",
    "    rb_res_cm.append(rb_res_temp)\n",
    "    fits_cm.append(fits_temp)\n",
    "    lfits_cm.append(lfits_temp)"
   ]
  },
  {
   "cell_type": "code",
   "execution_count": null,
   "id": "134bd945",
   "metadata": {},
   "outputs": [],
   "source": [
    "save_object([xvals_cm,rb_res_cm,fits_cm,lfits_cm],\"cm_sims1.pickle\")"
   ]
  },
  {
   "cell_type": "markdown",
   "id": "cf78ede7",
   "metadata": {},
   "source": [
    "### Collision"
   ]
  },
  {
   "cell_type": "code",
   "execution_count": null,
   "id": "ed686053",
   "metadata": {},
   "outputs": [],
   "source": [
    "# Collision\n",
    "# Control = Pre-m Collision Z Post-m T1,T2\n",
    "# Ancilla = Ideal\n",
    "\n",
    "deltas = 2*np.pi*np.array([0.0,1.0,2.0,5.0,10.0,20.0,50.0,100.0,200.0,500.0])\n",
    "\n",
    "col_sims = []\n",
    "for x in deltas:\n",
    "    noise_model = noise.NoiseModel()\n",
    "    noise_model = noise_model.from_dict(noise_model_sim.to_dict())\n",
    "    \n",
    "    noise_model.add_all_qubit_quantum_error(error_c1, ['sx', 'x', 'id'])\n",
    "    noise_model.add_all_qubit_quantum_error(error_c2, ['cx'])\n",
    "    \n",
    "    noise_model.add_quantum_error(error_t1t2, ['post_meas_id'], [1,0])\n",
    "    noise_model.add_quantum_error(error_t1t2, ['post_delay_id'], [1,0])\n",
    "    \n",
    "    error_col= noise.coherent_unitary_error(U_col(x,2*np.pi))\n",
    "    noise_model.add_quantum_error(error_col, ['pre_meas_id'], [1,0])\n",
    "    \n",
    "    col_sims.append(simulator.run(mcm_rb_tp,shots=shots,noise_model=noise_model))"
   ]
  },
  {
   "cell_type": "code",
   "execution_count": null,
   "id": "65b0459c",
   "metadata": {},
   "outputs": [],
   "source": [
    "xvals_col = []\n",
    "rb_res_col = []\n",
    "fits_col = []\n",
    "lfits_col = []\n",
    "\n",
    "for i in range(len(col_sims)):\n",
    "    xvals_temp, rb_res_temp, fits_temp, lfits_temp = mcmrb_sims.fit_mcm_RB_sims(col_sims[i], sqrb_list, ancilla_q_list)\n",
    "    xvals_col.append(xvals_temp)\n",
    "    rb_res_col.append(rb_res_temp)\n",
    "    fits_col.append(fits_temp)\n",
    "    lfits_col.append(lfits_temp)"
   ]
  },
  {
   "cell_type": "code",
   "execution_count": null,
   "id": "43f1c99a",
   "metadata": {},
   "outputs": [],
   "source": [
    "save_object([xvals_col,rb_res_col,fits_col,lfits_col],\"col_sims1.pickle\")"
   ]
  },
  {
   "cell_type": "markdown",
   "id": "0bb65b15",
   "metadata": {},
   "source": [
    "### ZZ-coupling"
   ]
  },
  {
   "cell_type": "code",
   "execution_count": null,
   "id": "8d64ec98",
   "metadata": {},
   "outputs": [],
   "source": [
    "# ZZ\n",
    "# Control = Pre-m ZZ Z Post-m T1,T2\n",
    "# Ancilla = Pre-m ZZ Post-m T1,T2\n",
    "\n",
    "ZZ0 = 2*np.pi*50.0/1000\n",
    "T1s = [100.0,10.0,1.0,0.1,0.01]\n",
    "\n",
    "ZZ_sims = []\n",
    "for x in T1s:\n",
    "    \n",
    "    error_t1t2_both = noise.thermal_relaxation_error(t1, t2, meas_time).tensor(noise.thermal_relaxation_error(x, x/3, meas_time))\n",
    "    noise_model = noise.NoiseModel()\n",
    "    noise_model = noise_model.from_dict(noise_model_sim.to_dict())\n",
    "    \n",
    "    noise_model.add_all_qubit_quantum_error(error_c1, ['sx', 'x', 'id'])\n",
    "    \n",
    "    noise_model.add_quantum_error(error_t1t2_both, ['post_meas_id'], [1,0])\n",
    "    noise_model.add_quantum_error(error_t1t2_both, ['post_delay_id'], [1,0])\n",
    "    \n",
    "    error_ZZ = noise.coherent_unitary_error(U_ZZ(ZZ0))\n",
    "    noise_model.add_quantum_error(error_ZZ, ['pre_meas_id'], [1,0])\n",
    "    \n",
    "    ZZ_sims.append(simulator.run(mcm_rb_tp,noise_model=noise_model))"
   ]
  },
  {
   "cell_type": "code",
   "execution_count": null,
   "id": "cfe05347",
   "metadata": {},
   "outputs": [],
   "source": [
    "xvals_ZZ = []\n",
    "rb_res_ZZ = []\n",
    "fits_ZZ = []\n",
    "lfits_ZZ = []\n",
    "\n",
    "for i in range(len(ZZ_sims)):\n",
    "    xvals_temp, rb_res_temp, fits_temp, lfits_temp = mcmrb_sims.fit_mcm_RB_sims_free(ZZ_sims2[i], sqrb_list, ancilla_q_list)\n",
    "    xvals_ZZ.append(xvals_temp)\n",
    "    rb_res_ZZ.append(rb_res_temp)\n",
    "    fits_ZZ.append(fits_temp)\n",
    "    lfits_ZZ.append(lfits_temp)"
   ]
  },
  {
   "cell_type": "code",
   "execution_count": null,
   "id": "bc22f718",
   "metadata": {},
   "outputs": [],
   "source": [
    "save_object([xvals_ZZ,rb_res_ZZ,fits_ZZ,lfits_ZZ],\"ZZ_sims1.pickle\")"
   ]
  }
 ],
 "metadata": {
  "kernelspec": {
   "display_name": "Python 3",
   "language": "python",
   "name": "python3"
  },
  "language_info": {
   "codemirror_mode": {
    "name": "ipython",
    "version": 3
   },
   "file_extension": ".py",
   "mimetype": "text/x-python",
   "name": "python",
   "nbconvert_exporter": "python",
   "pygments_lexer": "ipython3",
   "version": "3.9.5"
  }
 },
 "nbformat": 4,
 "nbformat_minor": 5
}
